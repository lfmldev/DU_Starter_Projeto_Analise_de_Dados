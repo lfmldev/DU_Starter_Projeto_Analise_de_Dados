{
 "cells": [
  {
   "cell_type": "markdown",
   "metadata": {
    "id": "UsdDH8V0VeYR"
   },
   "source": [
    "# Predição de pagadores de cartão de crédito"
   ]
  },
  {
   "cell_type": "markdown",
   "metadata": {
    "id": "DlzOYNK0YDqx"
   },
   "source": [
    "## Entendendo o problema"
   ]
  },
  {
   "cell_type": "markdown",
   "metadata": {
    "id": "Nlr_MKI5W4SI"
   },
   "source": [
    "Sempre entender o que cada linha nos está nos dizendo, verificar o que cada linha significa.\n",
    "Esses dados, de acordo com o problema, é de 6 meses. O objetivo é prever se uma conta ficará inadiplente no próximo mês.\n",
    "\n",
    "\n",
    "\n",
    "*   Primeiro passo: Entender o contexto/problema\n",
    "*   Cliente: Empresa de cartão de crédito\n",
    "*   Dados históricos: 6 meses de 30k de clientes\n",
    "*   Objetivo: Modelo capaz de prever se uma conta/cliente ficará inadimplente no próximo mês\n",
    "\n"
   ]
  },
  {
   "cell_type": "markdown",
   "metadata": {
    "id": "daeOc_r-VizB"
   },
   "source": [
    "## 1. Bibliotecas"
   ]
  },
  {
   "cell_type": "code",
   "execution_count": 1,
   "metadata": {
    "executionInfo": {
     "elapsed": 631,
     "status": "ok",
     "timestamp": 1705449316022,
     "user": {
      "displayName": "Luiz Felipe Martins de Lima",
      "userId": "11747547988770868357"
     },
     "user_tz": 180
    },
    "id": "rhh04a6-VngY"
   },
   "outputs": [],
   "source": [
    "import pandas as pd"
   ]
  },
  {
   "cell_type": "markdown",
   "metadata": {
    "id": "ZQyR_uyCVrXZ"
   },
   "source": [
    "## 2. Carregando Dados"
   ]
  },
  {
   "cell_type": "code",
   "execution_count": 3,
   "metadata": {
    "executionInfo": {
     "elapsed": 6435,
     "status": "ok",
     "timestamp": 1705449322454,
     "user": {
      "displayName": "Luiz Felipe Martins de Lima",
      "userId": "11747547988770868357"
     },
     "user_tz": 180
    },
    "id": "tXIdleOfVxAo"
   },
   "outputs": [
    {
     "ename": "ImportError",
     "evalue": "Missing optional dependency 'xlrd'. Install xlrd >= 2.0.1 for xls Excel support Use pip or conda to install xlrd.",
     "output_type": "error",
     "traceback": [
      "\u001b[1;31m---------------------------------------------------------------------------\u001b[0m",
      "\u001b[1;31mModuleNotFoundError\u001b[0m                       Traceback (most recent call last)",
      "File \u001b[1;32mC:\\ProgramData\\anaconda3\\Lib\\site-packages\\pandas\\compat\\_optional.py:142\u001b[0m, in \u001b[0;36mimport_optional_dependency\u001b[1;34m(name, extra, errors, min_version)\u001b[0m\n\u001b[0;32m    141\u001b[0m \u001b[38;5;28;01mtry\u001b[39;00m:\n\u001b[1;32m--> 142\u001b[0m     module \u001b[38;5;241m=\u001b[39m importlib\u001b[38;5;241m.\u001b[39mimport_module(name)\n\u001b[0;32m    143\u001b[0m \u001b[38;5;28;01mexcept\u001b[39;00m \u001b[38;5;167;01mImportError\u001b[39;00m:\n",
      "File \u001b[1;32mC:\\ProgramData\\anaconda3\\Lib\\importlib\\__init__.py:126\u001b[0m, in \u001b[0;36mimport_module\u001b[1;34m(name, package)\u001b[0m\n\u001b[0;32m    125\u001b[0m         level \u001b[38;5;241m+\u001b[39m\u001b[38;5;241m=\u001b[39m \u001b[38;5;241m1\u001b[39m\n\u001b[1;32m--> 126\u001b[0m \u001b[38;5;28;01mreturn\u001b[39;00m _bootstrap\u001b[38;5;241m.\u001b[39m_gcd_import(name[level:], package, level)\n",
      "File \u001b[1;32m<frozen importlib._bootstrap>:1204\u001b[0m, in \u001b[0;36m_gcd_import\u001b[1;34m(name, package, level)\u001b[0m\n",
      "File \u001b[1;32m<frozen importlib._bootstrap>:1176\u001b[0m, in \u001b[0;36m_find_and_load\u001b[1;34m(name, import_)\u001b[0m\n",
      "File \u001b[1;32m<frozen importlib._bootstrap>:1140\u001b[0m, in \u001b[0;36m_find_and_load_unlocked\u001b[1;34m(name, import_)\u001b[0m\n",
      "\u001b[1;31mModuleNotFoundError\u001b[0m: No module named 'xlrd'",
      "\nDuring handling of the above exception, another exception occurred:\n",
      "\u001b[1;31mImportError\u001b[0m                               Traceback (most recent call last)",
      "Cell \u001b[1;32mIn[3], line 2\u001b[0m\n\u001b[0;32m      1\u001b[0m URL \u001b[38;5;241m=\u001b[39m \u001b[38;5;124m\"\u001b[39m\u001b[38;5;124mhttps://github.com/TrainingByPackt/Data-Science-Projects-with-Python/raw/master/Data/default_of_credit_card_clients__courseware_version_1_21_19.xls\u001b[39m\u001b[38;5;124m\"\u001b[39m\n\u001b[1;32m----> 2\u001b[0m df \u001b[38;5;241m=\u001b[39m pd\u001b[38;5;241m.\u001b[39mread_excel(URL)\n",
      "File \u001b[1;32mC:\\ProgramData\\anaconda3\\Lib\\site-packages\\pandas\\io\\excel\\_base.py:478\u001b[0m, in \u001b[0;36mread_excel\u001b[1;34m(io, sheet_name, header, names, index_col, usecols, dtype, engine, converters, true_values, false_values, skiprows, nrows, na_values, keep_default_na, na_filter, verbose, parse_dates, date_parser, date_format, thousands, decimal, comment, skipfooter, storage_options, dtype_backend)\u001b[0m\n\u001b[0;32m    476\u001b[0m \u001b[38;5;28;01mif\u001b[39;00m \u001b[38;5;129;01mnot\u001b[39;00m \u001b[38;5;28misinstance\u001b[39m(io, ExcelFile):\n\u001b[0;32m    477\u001b[0m     should_close \u001b[38;5;241m=\u001b[39m \u001b[38;5;28;01mTrue\u001b[39;00m\n\u001b[1;32m--> 478\u001b[0m     io \u001b[38;5;241m=\u001b[39m ExcelFile(io, storage_options\u001b[38;5;241m=\u001b[39mstorage_options, engine\u001b[38;5;241m=\u001b[39mengine)\n\u001b[0;32m    479\u001b[0m \u001b[38;5;28;01melif\u001b[39;00m engine \u001b[38;5;129;01mand\u001b[39;00m engine \u001b[38;5;241m!=\u001b[39m io\u001b[38;5;241m.\u001b[39mengine:\n\u001b[0;32m    480\u001b[0m     \u001b[38;5;28;01mraise\u001b[39;00m \u001b[38;5;167;01mValueError\u001b[39;00m(\n\u001b[0;32m    481\u001b[0m         \u001b[38;5;124m\"\u001b[39m\u001b[38;5;124mEngine should not be specified when passing \u001b[39m\u001b[38;5;124m\"\u001b[39m\n\u001b[0;32m    482\u001b[0m         \u001b[38;5;124m\"\u001b[39m\u001b[38;5;124man ExcelFile - ExcelFile already has the engine set\u001b[39m\u001b[38;5;124m\"\u001b[39m\n\u001b[0;32m    483\u001b[0m     )\n",
      "File \u001b[1;32mC:\\ProgramData\\anaconda3\\Lib\\site-packages\\pandas\\io\\excel\\_base.py:1513\u001b[0m, in \u001b[0;36mExcelFile.__init__\u001b[1;34m(self, path_or_buffer, engine, storage_options)\u001b[0m\n\u001b[0;32m   1510\u001b[0m \u001b[38;5;28mself\u001b[39m\u001b[38;5;241m.\u001b[39mengine \u001b[38;5;241m=\u001b[39m engine\n\u001b[0;32m   1511\u001b[0m \u001b[38;5;28mself\u001b[39m\u001b[38;5;241m.\u001b[39mstorage_options \u001b[38;5;241m=\u001b[39m storage_options\n\u001b[1;32m-> 1513\u001b[0m \u001b[38;5;28mself\u001b[39m\u001b[38;5;241m.\u001b[39m_reader \u001b[38;5;241m=\u001b[39m \u001b[38;5;28mself\u001b[39m\u001b[38;5;241m.\u001b[39m_engines[engine](\u001b[38;5;28mself\u001b[39m\u001b[38;5;241m.\u001b[39m_io, storage_options\u001b[38;5;241m=\u001b[39mstorage_options)\n",
      "File \u001b[1;32mC:\\ProgramData\\anaconda3\\Lib\\site-packages\\pandas\\io\\excel\\_xlrd.py:34\u001b[0m, in \u001b[0;36mXlrdReader.__init__\u001b[1;34m(self, filepath_or_buffer, storage_options)\u001b[0m\n\u001b[0;32m     24\u001b[0m \u001b[38;5;250m\u001b[39m\u001b[38;5;124;03m\"\"\"\u001b[39;00m\n\u001b[0;32m     25\u001b[0m \u001b[38;5;124;03mReader using xlrd engine.\u001b[39;00m\n\u001b[0;32m     26\u001b[0m \n\u001b[1;32m   (...)\u001b[0m\n\u001b[0;32m     31\u001b[0m \u001b[38;5;124;03m{storage_options}\u001b[39;00m\n\u001b[0;32m     32\u001b[0m \u001b[38;5;124;03m\"\"\"\u001b[39;00m\n\u001b[0;32m     33\u001b[0m err_msg \u001b[38;5;241m=\u001b[39m \u001b[38;5;124m\"\u001b[39m\u001b[38;5;124mInstall xlrd >= 2.0.1 for xls Excel support\u001b[39m\u001b[38;5;124m\"\u001b[39m\n\u001b[1;32m---> 34\u001b[0m import_optional_dependency(\u001b[38;5;124m\"\u001b[39m\u001b[38;5;124mxlrd\u001b[39m\u001b[38;5;124m\"\u001b[39m, extra\u001b[38;5;241m=\u001b[39merr_msg)\n\u001b[0;32m     35\u001b[0m \u001b[38;5;28msuper\u001b[39m()\u001b[38;5;241m.\u001b[39m\u001b[38;5;21m__init__\u001b[39m(filepath_or_buffer, storage_options\u001b[38;5;241m=\u001b[39mstorage_options)\n",
      "File \u001b[1;32mC:\\ProgramData\\anaconda3\\Lib\\site-packages\\pandas\\compat\\_optional.py:145\u001b[0m, in \u001b[0;36mimport_optional_dependency\u001b[1;34m(name, extra, errors, min_version)\u001b[0m\n\u001b[0;32m    143\u001b[0m \u001b[38;5;28;01mexcept\u001b[39;00m \u001b[38;5;167;01mImportError\u001b[39;00m:\n\u001b[0;32m    144\u001b[0m     \u001b[38;5;28;01mif\u001b[39;00m errors \u001b[38;5;241m==\u001b[39m \u001b[38;5;124m\"\u001b[39m\u001b[38;5;124mraise\u001b[39m\u001b[38;5;124m\"\u001b[39m:\n\u001b[1;32m--> 145\u001b[0m         \u001b[38;5;28;01mraise\u001b[39;00m \u001b[38;5;167;01mImportError\u001b[39;00m(msg)\n\u001b[0;32m    146\u001b[0m     \u001b[38;5;28;01mreturn\u001b[39;00m \u001b[38;5;28;01mNone\u001b[39;00m\n\u001b[0;32m    148\u001b[0m \u001b[38;5;66;03m# Handle submodules: if we have submodule, grab parent module from sys.modules\u001b[39;00m\n",
      "\u001b[1;31mImportError\u001b[0m: Missing optional dependency 'xlrd'. Install xlrd >= 2.0.1 for xls Excel support Use pip or conda to install xlrd."
     ]
    }
   ],
   "source": [
    "URL = \"https://github.com/TrainingByPackt/Data-Science-Projects-with-Python/raw/master/Data/default_of_credit_card_clients__courseware_version_1_21_19.xls\"\n",
    "df = pd.read_excel(URL)"
   ]
  },
  {
   "cell_type": "code",
   "execution_count": null,
   "metadata": {
    "colab": {
     "base_uri": "https://localhost:8080/"
    },
    "executionInfo": {
     "elapsed": 14,
     "status": "ok",
     "timestamp": 1705449322454,
     "user": {
      "displayName": "Luiz Felipe Martins de Lima",
      "userId": "11747547988770868357"
     },
     "user_tz": 180
    },
    "id": "9a6EOZZ2WW54",
    "outputId": "10042f65-bbd4-4c3a-c05b-4d966e0038bc"
   },
   "outputs": [],
   "source": [
    "df.shape"
   ]
  },
  {
   "cell_type": "code",
   "execution_count": null,
   "metadata": {
    "colab": {
     "base_uri": "https://localhost:8080/",
     "height": 0
    },
    "executionInfo": {
     "elapsed": 12,
     "status": "ok",
     "timestamp": 1705449322454,
     "user": {
      "displayName": "Luiz Felipe Martins de Lima",
      "userId": "11747547988770868357"
     },
     "user_tz": 180
    },
    "id": "LTppk3jNWPdR",
    "outputId": "b65b516f-9c7b-40d0-a848-5abc3baf36b5"
   },
   "outputs": [],
   "source": [
    "df.head()"
   ]
  },
  {
   "cell_type": "markdown",
   "metadata": {
    "id": "xLu9RU48Wh89"
   },
   "source": [
    "## 3. Verificando a integridade dos dados"
   ]
  },
  {
   "cell_type": "markdown",
   "metadata": {
    "id": "RLb4tqXhcYQL"
   },
   "source": [
    "### 3.1 Verificando as colunas"
   ]
  },
  {
   "cell_type": "code",
   "execution_count": null,
   "metadata": {
    "colab": {
     "base_uri": "https://localhost:8080/"
    },
    "executionInfo": {
     "elapsed": 11,
     "status": "ok",
     "timestamp": 1705449322454,
     "user": {
      "displayName": "Luiz Felipe Martins de Lima",
      "userId": "11747547988770868357"
     },
     "user_tz": 180
    },
    "id": "j-p2v6eVcv8Q",
    "outputId": "5e4708ac-11ab-4ed4-9cf9-f6b3014c1960"
   },
   "outputs": [],
   "source": [
    "print('Total de colunas', len(df.columns), '\\n')\n",
    "df.columns"
   ]
  },
  {
   "cell_type": "markdown",
   "metadata": {
    "id": "1VUDAu4odLwJ"
   },
   "source": [
    "#### 3.1.1 Dicionário de Dados\n",
    "\n",
    "Ficar atento caso haja informações desatualizadas ou informações diferentes."
   ]
  },
  {
   "cell_type": "markdown",
   "metadata": {
    "id": "mdLfK4rCfTTI"
   },
   "source": [
    "Este dicionário de dados descreve as variáveis utilizadas nesta pesquisa, onde uma variável binária, \"default payment\" (Sim = 1, Não = 0), é a variável de resposta. A revisão da literatura orientou a escolha de 23 variáveis explicativas:\n",
    "\n",
    "1. **X1: Montante do crédito concedido (Dólar NT):** Inclui tanto o crédito individual do consumidor quanto o crédito familiar (suplementar).\n",
    "\n",
    "2. **X2: Gênero (1 = masculino; 2 = feminino).**\n",
    "\n",
    "3. **X3: Educação (1 = pós-graduação; 2 = universidade; 3 = ensino médio; 4 = outros).**\n",
    "\n",
    "4. **X4: Estado civil (1 = casado; 2 = solteiro; 3 = outros).**\n",
    "\n",
    "5. **X5: Idade (ano).**\n",
    "\n",
    "6. **X6 - X11: Histórico de pagamento passado.** Registros mensais de pagamento passado foram rastreados de abril a setembro de 2005, onde X6 = status de pagamento em setembro de 2005; X7 = status de pagamento em agosto de 2005; ...; X11 = status de pagamento em abril de 2005. A escala de medição para o status de pagamento é: -1 = pagamento pontual; 1 = atraso de um mês; 2 = atraso de dois meses; ...; 8 = atraso de oito meses; 9 = atraso de nove meses ou mais.\n",
    "\n",
    "7. **X12-X17: Valor do extrato de conta (Dólar NT).** X12 = valor do extrato de conta em setembro de 2005; X13 = valor do extrato de conta em agosto de 2005; ...; X17 = valor do extrato de conta em abril de 2005.\n",
    "\n",
    "8. **X18-X23: Valor do pagamento anterior (Dólar NT).** X18 = valor pago em setembro de 2005; X19 = valor pago em agosto de 2005; ...; X23 = valor pago em abril de 2005.\n"
   ]
  },
  {
   "cell_type": "markdown",
   "metadata": {
    "id": "ICTi85X_gr3X"
   },
   "source": [
    "### 3.2 Dando uma olhada nos nossos dados"
   ]
  },
  {
   "cell_type": "code",
   "execution_count": null,
   "metadata": {
    "colab": {
     "base_uri": "https://localhost:8080/"
    },
    "executionInfo": {
     "elapsed": 11,
     "status": "ok",
     "timestamp": 1705449322455,
     "user": {
      "displayName": "Luiz Felipe Martins de Lima",
      "userId": "11747547988770868357"
     },
     "user_tz": 180
    },
    "id": "OEtO2_Ytht0U",
    "outputId": "0b5f451d-bd44-476d-86b3-62bfb6e98434"
   },
   "outputs": [],
   "source": [
    "df.shape"
   ]
  },
  {
   "cell_type": "code",
   "execution_count": null,
   "metadata": {
    "colab": {
     "base_uri": "https://localhost:8080/",
     "height": 0
    },
    "executionInfo": {
     "elapsed": 10,
     "status": "ok",
     "timestamp": 1705449322455,
     "user": {
      "displayName": "Luiz Felipe Martins de Lima",
      "userId": "11747547988770868357"
     },
     "user_tz": 180
    },
    "id": "5y8hBF5Dc4np",
    "outputId": "40d0c9b6-bb57-4a83-f877-7e2ab4cd9bec"
   },
   "outputs": [],
   "source": [
    "df.head()"
   ]
  },
  {
   "cell_type": "markdown",
   "metadata": {
    "id": "ZNMjmNLCg-4B"
   },
   "source": [
    "### 3.3 Verificando se todos IDs são únicos\n",
    "\n",
    "Cada linha se trata de uma conta portanto não pode haver ids repetidos"
   ]
  },
  {
   "cell_type": "code",
   "execution_count": null,
   "metadata": {
    "colab": {
     "base_uri": "https://localhost:8080/"
    },
    "executionInfo": {
     "elapsed": 9,
     "status": "ok",
     "timestamp": 1705449322455,
     "user": {
      "displayName": "Luiz Felipe Martins de Lima",
      "userId": "11747547988770868357"
     },
     "user_tz": 180
    },
    "id": "5wV9_HS1fcSY",
    "outputId": "b74ac146-a22d-4a81-a883-b58c1897d8ea"
   },
   "outputs": [],
   "source": [
    "df['ID'].nunique()"
   ]
  },
  {
   "cell_type": "markdown",
   "metadata": {
    "id": "Glv9DpMtic76"
   },
   "source": [
    "### 3.4 Verificando o total de linhas"
   ]
  },
  {
   "cell_type": "code",
   "execution_count": null,
   "metadata": {
    "colab": {
     "base_uri": "https://localhost:8080/"
    },
    "executionInfo": {
     "elapsed": 9,
     "status": "ok",
     "timestamp": 1705449322455,
     "user": {
      "displayName": "Luiz Felipe Martins de Lima",
      "userId": "11747547988770868357"
     },
     "user_tz": 180
    },
    "id": "zFWSTyMMhS2Q",
    "outputId": "68c8360b-9507-43e4-b2d7-e5456660c297"
   },
   "outputs": [],
   "source": [
    "df.shape[0] # O '0' especifica apenas as linhas do Dataframe"
   ]
  },
  {
   "cell_type": "markdown",
   "metadata": {
    "id": "PE38Y3BJkS2y"
   },
   "source": [
    "### 3.5 Contagem de IDs"
   ]
  },
  {
   "cell_type": "code",
   "execution_count": null,
   "metadata": {
    "colab": {
     "base_uri": "https://localhost:8080/"
    },
    "executionInfo": {
     "elapsed": 1051,
     "status": "ok",
     "timestamp": 1705449323498,
     "user": {
      "displayName": "Luiz Felipe Martins de Lima",
      "userId": "11747547988770868357"
     },
     "user_tz": 180
    },
    "id": "wjA0cngOibDZ",
    "outputId": "0f141b9f-482d-4c77-d869-ff70b7629cb7"
   },
   "outputs": [],
   "source": [
    "id_counts = df['ID'].value_counts()\n",
    "id_counts.head()"
   ]
  },
  {
   "cell_type": "markdown",
   "metadata": {
    "id": "iB0YZawblrux"
   },
   "source": [
    "### 3.6 Contagem de repetições de IDs"
   ]
  },
  {
   "cell_type": "code",
   "execution_count": null,
   "metadata": {
    "colab": {
     "base_uri": "https://localhost:8080/"
    },
    "executionInfo": {
     "elapsed": 5,
     "status": "ok",
     "timestamp": 1705449323498,
     "user": {
      "displayName": "Luiz Felipe Martins de Lima",
      "userId": "11747547988770868357"
     },
     "user_tz": 180
    },
    "id": "CXqgqgWblZ25",
    "outputId": "c4f3c1df-ebf4-46ee-b00e-03a6d5254097"
   },
   "outputs": [],
   "source": [
    "id_counts.value_counts() # irá mostrar quantos 2 e 1 aparecem"
   ]
  },
  {
   "cell_type": "code",
   "execution_count": null,
   "metadata": {
    "colab": {
     "base_uri": "https://localhost:8080/"
    },
    "executionInfo": {
     "elapsed": 4,
     "status": "ok",
     "timestamp": 1705449323498,
     "user": {
      "displayName": "Luiz Felipe Martins de Lima",
      "userId": "11747547988770868357"
     },
     "user_tz": 180
    },
    "id": "KYgRF27EllzI",
    "outputId": "abf6da79-4cf3-4265-a034-0191955d495a"
   },
   "outputs": [],
   "source": [
    "29374+313*2 # Conferência do tamanho do shape"
   ]
  },
  {
   "cell_type": "markdown",
   "metadata": {
    "id": "X-AwSIsFmA5T"
   },
   "source": [
    "## 4.0 Análise de Dados Duplicados"
   ]
  },
  {
   "cell_type": "markdown",
   "metadata": {
    "id": "hQQrSc4utegR"
   },
   "source": [
    "### 4.1 IDs que se repetem"
   ]
  },
  {
   "cell_type": "code",
   "execution_count": null,
   "metadata": {
    "colab": {
     "base_uri": "https://localhost:8080/"
    },
    "executionInfo": {
     "elapsed": 7,
     "status": "ok",
     "timestamp": 1705449339153,
     "user": {
      "displayName": "Luiz Felipe Martins de Lima",
      "userId": "11747547988770868357"
     },
     "user_tz": 180
    },
    "id": "zI1Xo_Jess4A",
    "outputId": "284acaa6-a0c0-453b-9248-cbae75860549"
   },
   "outputs": [],
   "source": [
    "id_counts == 2"
   ]
  },
  {
   "cell_type": "code",
   "execution_count": null,
   "metadata": {
    "colab": {
     "base_uri": "https://localhost:8080/"
    },
    "executionInfo": {
     "elapsed": 9,
     "status": "ok",
     "timestamp": 1705449740617,
     "user": {
      "displayName": "Luiz Felipe Martins de Lima",
      "userId": "11747547988770868357"
     },
     "user_tz": 180
    },
    "id": "8s4wyzrfs7OY",
    "outputId": "66974769-7d00-4d44-ffa6-3f4e972dd213"
   },
   "outputs": [],
   "source": [
    " dupe_mask = id_counts == 2 # Verificando quais são os duplicados e colocando em uma variável\n",
    " print(type(dupe_mask)) # É uma \"series\" ou seja, uma coluna\n",
    " dupe_mask[:5]"
   ]
  },
  {
   "cell_type": "markdown",
   "metadata": {
    "id": "CQyGEwvRtabY"
   },
   "source": [
    "### 4.2 Exibindo os 5 primeiros índices"
   ]
  },
  {
   "cell_type": "code",
   "execution_count": null,
   "metadata": {
    "colab": {
     "base_uri": "https://localhost:8080/"
    },
    "executionInfo": {
     "elapsed": 411,
     "status": "ok",
     "timestamp": 1705449842432,
     "user": {
      "displayName": "Luiz Felipe Martins de Lima",
      "userId": "11747547988770868357"
     },
     "user_tz": 180
    },
    "id": "zuF_m_nFtosB",
    "outputId": "fbcee061-3888-4dcf-d8d0-c51ced2fdfab"
   },
   "outputs": [],
   "source": [
    "id_counts.index[:5] # O índice são os IDs!"
   ]
  },
  {
   "cell_type": "markdown",
   "metadata": {
    "id": "gTZO3uAItroQ"
   },
   "source": [
    "### Selecionar os IDs duplicados"
   ]
  },
  {
   "cell_type": "code",
   "execution_count": null,
   "metadata": {
    "id": "zdiIqOj7vBlh"
   },
   "outputs": [],
   "source": [
    "dupe_ids = id_counts.index[dupe_mask] #"
   ]
  }
 ],
 "metadata": {
  "colab": {
   "authorship_tag": "ABX9TyMXi82aF6RdAgxv+mGTImUW",
   "collapsed_sections": [
    "DlzOYNK0YDqx",
    "daeOc_r-VizB",
    "ZQyR_uyCVrXZ",
    "RLb4tqXhcYQL",
    "1VUDAu4odLwJ",
    "ICTi85X_gr3X",
    "ZNMjmNLCg-4B",
    "Glv9DpMtic76",
    "PE38Y3BJkS2y"
   ],
   "provenance": []
  },
  "kernelspec": {
   "display_name": "Python 3 (ipykernel)",
   "language": "python",
   "name": "python3"
  },
  "language_info": {
   "codemirror_mode": {
    "name": "ipython",
    "version": 3
   },
   "file_extension": ".py",
   "mimetype": "text/x-python",
   "name": "python",
   "nbconvert_exporter": "python",
   "pygments_lexer": "ipython3",
   "version": "3.11.5"
  }
 },
 "nbformat": 4,
 "nbformat_minor": 1
}
